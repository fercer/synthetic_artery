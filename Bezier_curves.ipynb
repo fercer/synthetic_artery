{
 "cells": [
  {
   "cell_type": "code",
   "execution_count": 8,
   "metadata": {},
   "outputs": [],
   "source": [
    "import numpy as np\n",
    "from scipy.special import factorial\n",
    "import matplotlib.pyplot as plt"
   ]
  },
  {
   "cell_type": "code",
   "execution_count": 108,
   "metadata": {},
   "outputs": [],
   "source": [
    "def binomial_coeff(n, k):\n",
    "    # Compute the binomial coefficient as n!/(k!*(n-k)!):\n",
    "    return factorial(n)/(factorial(k)*(factorial(n-k)))\n",
    "\n",
    "def bernstein_poly(u, n):\n",
    "    # Define the coeficients of the polynomial of degree n\n",
    "    coeff = list(map(binomial_coeff, [n]*(n+1), range(n+1)))\n",
    "    u_1 = np.array(list(map(lambda x,y: x**y, [u]*(n+1), range(n+1))))\n",
    "    u_2 = np.array(list(map(lambda x,y: x**y, [1.-u]*(n+1), range(n, -1, -1))))\n",
    "    return coeff * u_1 * u_2\n",
    "\n",
    "def bezier_inter(u, control_points):\n",
    "    n = control_points.shape[0]-1\n",
    "    b_coeffs = bernstein_poly(u, n)\n",
    "    return np.sum(control_points * b_coeffs[...,np.newaxis], 0)\n"
   ]
  },
  {
   "cell_type": "code",
   "execution_count": 124,
   "metadata": {},
   "outputs": [
    {
     "data": {
      "image/png": "[encoded data removed]",
      "text/plain": [
       "<Figure size 432x288 with 1 Axes>"
      ]
     },
     "metadata": {
      "needs_background": "light"
     },
     "output_type": "display_data"
    }
   ],
   "source": [
    "control_points = np.array([[0.0, 0.0], [-0.2, 1.0], [0.5,1.0], [1.0, 1.0], [1.0,0.0]])\n",
    "inter_points = np.array([bezier_inter(u, control_points) for u in np.arange(0., 1., 0.01)])\n",
    "\n",
    "plt.scatter(control_points[:,0], control_points[:,1])\n",
    "plt.plot(inter_points[:,0], inter_points[:,1], 'r-')\n",
    "plt.show()"
   ]
  }
 ],
 "metadata": {
  "kernelspec": {
   "display_name": "Python 3",
   "language": "python",
   "name": "python3"
  },
  "language_info": {
   "codemirror_mode": {
    "name": "ipython",
    "version": 3
   },
   "file_extension": ".py",
   "mimetype": "text/x-python",
   "name": "python",
   "nbconvert_exporter": "python",
   "pygments_lexer": "ipython3",
   "version": "3.6.8"
  }
 },
 "nbformat": 4,
 "nbformat_minor": 2
}
