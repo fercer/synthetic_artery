{
 "cells": [
  {
   "cell_type": "code",
   "execution_count": 1,
   "metadata": {},
   "outputs": [],
   "source": [
    "import xml.etree.ElementTree as ET\n",
    "import vtk"
   ]
  },
  {
   "cell_type": "code",
   "execution_count": 4,
   "metadata": {},
   "outputs": [],
   "source": [
    "def open_artery_file(filename):\n",
    "    colors = vtk.vtkNamedColors()\n",
    "    renderer = vtk.vtkRenderer()\n",
    "\n",
    "    renWin = vtk.vtkRenderWindow()\n",
    "    renWin.AddRenderer(renderer)\n",
    "    iren = vtk.vtkRenderWindowInteractor()\n",
    "    iren.SetRenderWindow(renWin)\n",
    "\n",
    "    \n",
    "    tree = ET.parse(filename)\n",
    "    root = tree.getroot()  \n",
    "    graph = root[0]    \n",
    "    \n",
    "    # Iterate the nodes and save the positions:\n",
    "    nodes_vertices = vtk.vtkPoints()\n",
    "    \n",
    "    for node in graph.iter('node'):        \n",
    "        for attribute in node.iter('attr'):            \n",
    "            if attribute.attrib['name'] == ' position':\n",
    "                for position_tuple in attribute:\n",
    "                    node_position = [float(axis_value.text) for axis_value in position_tuple]\n",
    "                \n",
    "        nodes_vertices.InsertPoint(int(node.attrib['id'][1:]), node_position)\n",
    "    \n",
    "    # Generate a simple unstructured grid with the lines of each edge\n",
    "    ugrid = vtk.vtkUnstructuredGrid()\n",
    "    ugrid.Allocate(100)\n",
    "    for edge in graph.iter('edge'):        \n",
    "        ugrid.InsertNextCell(vtk.VTK_LINE, 2, [int(edge.attrib['from'][1:]),int(edge.attrib['to'][1:])])\n",
    "        \"\"\"\n",
    "        for attribute in edge.iter('attr'):\n",
    "\n",
    "            if attribute.attrib['name'] == ' radius':\n",
    "                for position_tuple in attribute:\n",
    "                    node_position = [float(axis_value.text) for axis_value in position_tuple]\n",
    "        \"\"\"\n",
    "        \n",
    "    ugrid.SetPoints(nodes_vertices)\n",
    "    ugridMapper = vtk.vtkDataSetMapper()\n",
    "    ugridMapper.SetInputData(ugrid)\n",
    "    \n",
    "    ugridActor = vtk.vtkActor()\n",
    "    ugridActor.SetMapper(ugridMapper)\n",
    "    ugridActor.GetProperty().SetColor(colors.GetColor3d(\"Peacock\"))\n",
    "    ugridActor.GetProperty().EdgeVisibilityOn()\n",
    "    \n",
    "    renderer.AddActor(ugridActor)\n",
    "    renderer.SetBackground(colors.GetColor3d(\"Beige\"))\n",
    "    \n",
    "    renderer.ResetCamera()\n",
    "    renderer.GetActiveCamera().Elevation(60.0)\n",
    "    renderer.GetActiveCamera().Azimuth(30.0)\n",
    "    renderer.GetActiveCamera().Dolly(1.2)\n",
    "\n",
    "    renWin.SetSize(640, 480)\n",
    "\n",
    "    # Interact with the data.\n",
    "    renWin.Render()\n",
    "\n",
    "    iren.Start()\n"
   ]
  },
  {
   "cell_type": "code",
   "execution_count": 8,
   "metadata": {},
   "outputs": [],
   "source": [
    "filename = 'tree_structure.xml'\n",
    "open_artery_file(filename)"
   ]
  }
 ],
 "metadata": {
  "kernelspec": {
   "display_name": "Python 3",
   "language": "python",
   "name": "python3"
  },
  "language_info": {
   "codemirror_mode": {
    "name": "ipython",
    "version": 3
   },
   "file_extension": ".py",
   "mimetype": "text/x-python",
   "name": "python",
   "nbconvert_exporter": "python",
   "pygments_lexer": "ipython3",
   "version": "3.7.3"
  }
 },
 "nbformat": 4,
 "nbformat_minor": 2
}
